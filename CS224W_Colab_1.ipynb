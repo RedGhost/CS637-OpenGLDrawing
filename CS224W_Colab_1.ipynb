{
  "nbformat": 4,
  "nbformat_minor": 0,
  "metadata": {
    "kernelspec": {
      "display_name": "Python 3",
      "language": "python",
      "name": "python3"
    },
    "language_info": {
      "codemirror_mode": {
        "name": "ipython",
        "version": 3
      },
      "file_extension": ".py",
      "mimetype": "text/x-python",
      "name": "python",
      "nbconvert_exporter": "python",
      "pygments_lexer": "ipython3",
      "version": "3.7.3"
    },
    "colab": {
      "provenance": [],
      "machine_shape": "hm",
      "include_colab_link": true
    }
  },
  "cells": [
    {
      "cell_type": "markdown",
      "metadata": {
        "id": "view-in-github",
        "colab_type": "text"
      },
      "source": [
        "<a href=\"https://colab.research.google.com/github/RedGhost/CS637-OpenGLDrawing/blob/master/CS224W_Colab_1.ipynb\" target=\"_parent\"><img src=\"https://colab.research.google.com/assets/colab-badge.svg\" alt=\"Open In Colab\"/></a>"
      ]
    },
    {
      "cell_type": "markdown",
      "metadata": {
        "id": "XuXWJLEm2UWS"
      },
      "source": [
        "# **CS224W - Colab 1**"
      ]
    },
    {
      "cell_type": "markdown",
      "metadata": {
        "id": "8gzsP50bF6Gb"
      },
      "source": [
        "In this Colab, we will write a full pipeline for **learning node embeddings**.\n",
        "We will go through the following 3 steps.\n",
        "\n",
        "To start, we will load a classic graph in network science, the [Karate Club Network](https://en.wikipedia.org/wiki/Zachary%27s_karate_club). We will explore multiple graph statistics for that graph.\n",
        "\n",
        "We will then work together to transform the graph structure into a PyTorch tensor, so that we can perform machine learning over the graph.\n",
        "\n",
        "Finally, we will finish the first learning algorithm on graphs: a node embedding model. For simplicity, our model here is simpler than DeepWalk / node2vec algorithms taught in the lecture. But it's still rewarding and challenging, as we will write it from scratch via PyTorch.\n",
        "\n",
        "Now let's get started! This Colab should take 1-2 hours to complete.\n",
        "\n",
        "**Note**: Make sure to **restart and run all** before submission, so that the intermediate variables / packages will carry over to the next cell"
      ]
    },
    {
      "cell_type": "markdown",
      "metadata": {
        "id": "Nwwq0nSdmsOL"
      },
      "source": [
        "# 1 Graph Basics\n",
        "To start, we will load a classic graph in network science, the [Karate Club Network](https://en.wikipedia.org/wiki/Zachary%27s_karate_club). We will explore multiple graph statistics for that graph."
      ]
    },
    {
      "cell_type": "markdown",
      "metadata": {
        "id": "FDkpByYYfSzb"
      },
      "source": [
        "## Setup\n",
        "We will heavily use NetworkX in this Colab."
      ]
    },
    {
      "cell_type": "code",
      "metadata": {
        "id": "VWPkJjPAfVNW"
      },
      "source": [
        "import networkx as nx"
      ],
      "execution_count": null,
      "outputs": []
    },
    {
      "cell_type": "markdown",
      "metadata": {
        "id": "VqUnYT5qUZYh"
      },
      "source": [
        "## Zachary's karate club network\n",
        "\n",
        "The [Karate Club Network](https://en.wikipedia.org/wiki/Zachary%27s_karate_club) is a graph which describes a social network of 34 members of a karate club and documents links between members who interacted outside the club."
      ]
    },
    {
      "cell_type": "code",
      "metadata": {
        "id": "VIETqEfrfy5Y",
        "colab": {
          "base_uri": "https://localhost:8080/",
          "height": 187
        },
        "outputId": "9f21bce0-cace-4f7b-f039-308547b84b51"
      },
      "source": [
        "G = nx.karate_club_graph()\n",
        "\n",
        "# G is an undirected graph\n",
        "type(G)"
      ],
      "execution_count": null,
      "outputs": [
        {
          "output_type": "execute_result",
          "data": {
            "text/plain": [
              "networkx.classes.graph.Graph"
            ],
            "text/html": [
              "<div style=\"max-width:800px; border: 1px solid var(--colab-border-color);\"><style>\n",
              "      pre.function-repr-contents {\n",
              "        overflow-x: auto;\n",
              "        padding: 8px 12px;\n",
              "        max-height: 500px;\n",
              "      }\n",
              "\n",
              "      pre.function-repr-contents.function-repr-contents-collapsed {\n",
              "        cursor: pointer;\n",
              "        max-height: 100px;\n",
              "      }\n",
              "    </style>\n",
              "    <pre style=\"white-space: initial; background:\n",
              "         var(--colab-secondary-surface-color); padding: 8px 12px;\n",
              "         border-bottom: 1px solid var(--colab-border-color);\"><b>networkx.classes.graph.Graph</b><br/>def __init__(incoming_graph_data=None, **attr)</pre><pre class=\"function-repr-contents function-repr-contents-collapsed\" style=\"\"><a class=\"filepath\" style=\"display:none\" href=\"#\">/usr/local/lib/python3.12/dist-packages/networkx/classes/graph.py</a>Base class for undirected graphs.\n",
              "\n",
              "A Graph stores nodes and edges with optional data, or attributes.\n",
              "\n",
              "Graphs hold undirected edges.  Self loops are allowed but multiple\n",
              "(parallel) edges are not.\n",
              "\n",
              "Nodes can be arbitrary (hashable) Python objects with optional\n",
              "key/value attributes, except that `None` is not allowed as a node.\n",
              "\n",
              "Edges are represented as links between nodes with optional\n",
              "key/value attributes.\n",
              "\n",
              "Parameters\n",
              "----------\n",
              "incoming_graph_data : input graph (optional, default: None)\n",
              "    Data to initialize graph. If None (default) an empty\n",
              "    graph is created.  The data can be any format that is supported\n",
              "    by the to_networkx_graph() function, currently including edge list,\n",
              "    dict of dicts, dict of lists, NetworkX graph, 2D NumPy array, SciPy\n",
              "    sparse matrix, or PyGraphviz graph.\n",
              "\n",
              "attr : keyword arguments, optional (default= no attributes)\n",
              "    Attributes to add to graph as key=value pairs.\n",
              "\n",
              "See Also\n",
              "--------\n",
              "DiGraph\n",
              "MultiGraph\n",
              "MultiDiGraph\n",
              "\n",
              "Examples\n",
              "--------\n",
              "Create an empty graph structure (a &quot;null graph&quot;) with no nodes and\n",
              "no edges.\n",
              "\n",
              "&gt;&gt;&gt; G = nx.Graph()\n",
              "\n",
              "G can be grown in several ways.\n",
              "\n",
              "**Nodes:**\n",
              "\n",
              "Add one node at a time:\n",
              "\n",
              "&gt;&gt;&gt; G.add_node(1)\n",
              "\n",
              "Add the nodes from any container (a list, dict, set or\n",
              "even the lines from a file or the nodes from another graph).\n",
              "\n",
              "&gt;&gt;&gt; G.add_nodes_from([2, 3])\n",
              "&gt;&gt;&gt; G.add_nodes_from(range(100, 110))\n",
              "&gt;&gt;&gt; H = nx.path_graph(10)\n",
              "&gt;&gt;&gt; G.add_nodes_from(H)\n",
              "\n",
              "In addition to strings and integers any hashable Python object\n",
              "(except None) can represent a node, e.g. a customized node object,\n",
              "or even another Graph.\n",
              "\n",
              "&gt;&gt;&gt; G.add_node(H)\n",
              "\n",
              "**Edges:**\n",
              "\n",
              "G can also be grown by adding edges.\n",
              "\n",
              "Add one edge,\n",
              "\n",
              "&gt;&gt;&gt; G.add_edge(1, 2)\n",
              "\n",
              "a list of edges,\n",
              "\n",
              "&gt;&gt;&gt; G.add_edges_from([(1, 2), (1, 3)])\n",
              "\n",
              "or a collection of edges,\n",
              "\n",
              "&gt;&gt;&gt; G.add_edges_from(H.edges)\n",
              "\n",
              "If some edges connect nodes not yet in the graph, the nodes\n",
              "are added automatically.  There are no errors when adding\n",
              "nodes or edges that already exist.\n",
              "\n",
              "**Attributes:**\n",
              "\n",
              "Each graph, node, and edge can hold key/value attribute pairs\n",
              "in an associated attribute dictionary (the keys must be hashable).\n",
              "By default these are empty, but can be added or changed using\n",
              "add_edge, add_node or direct manipulation of the attribute\n",
              "dictionaries named graph, node and edge respectively.\n",
              "\n",
              "&gt;&gt;&gt; G = nx.Graph(day=&quot;Friday&quot;)\n",
              "&gt;&gt;&gt; G.graph\n",
              "{&#x27;day&#x27;: &#x27;Friday&#x27;}\n",
              "\n",
              "Add node attributes using add_node(), add_nodes_from() or G.nodes\n",
              "\n",
              "&gt;&gt;&gt; G.add_node(1, time=&quot;5pm&quot;)\n",
              "&gt;&gt;&gt; G.add_nodes_from([3], time=&quot;2pm&quot;)\n",
              "&gt;&gt;&gt; G.nodes[1]\n",
              "{&#x27;time&#x27;: &#x27;5pm&#x27;}\n",
              "&gt;&gt;&gt; G.nodes[1][&quot;room&quot;] = 714  # node must exist already to use G.nodes\n",
              "&gt;&gt;&gt; del G.nodes[1][&quot;room&quot;]  # remove attribute\n",
              "&gt;&gt;&gt; list(G.nodes(data=True))\n",
              "[(1, {&#x27;time&#x27;: &#x27;5pm&#x27;}), (3, {&#x27;time&#x27;: &#x27;2pm&#x27;})]\n",
              "\n",
              "Add edge attributes using add_edge(), add_edges_from(), subscript\n",
              "notation, or G.edges.\n",
              "\n",
              "&gt;&gt;&gt; G.add_edge(1, 2, weight=4.7)\n",
              "&gt;&gt;&gt; G.add_edges_from([(3, 4), (4, 5)], color=&quot;red&quot;)\n",
              "&gt;&gt;&gt; G.add_edges_from([(1, 2, {&quot;color&quot;: &quot;blue&quot;}), (2, 3, {&quot;weight&quot;: 8})])\n",
              "&gt;&gt;&gt; G[1][2][&quot;weight&quot;] = 4.7\n",
              "&gt;&gt;&gt; G.edges[1, 2][&quot;weight&quot;] = 4\n",
              "\n",
              "Warning: we protect the graph data structure by making `G.edges` a\n",
              "read-only dict-like structure. However, you can assign to attributes\n",
              "in e.g. `G.edges[1, 2]`. Thus, use 2 sets of brackets to add/change\n",
              "data attributes: `G.edges[1, 2][&#x27;weight&#x27;] = 4`\n",
              "(For multigraphs: `MG.edges[u, v, key][name] = value`).\n",
              "\n",
              "**Shortcuts:**\n",
              "\n",
              "Many common graph features allow python syntax to speed reporting.\n",
              "\n",
              "&gt;&gt;&gt; 1 in G  # check if node in graph\n",
              "True\n",
              "&gt;&gt;&gt; [n for n in G if n &lt; 3]  # iterate through nodes\n",
              "[1, 2]\n",
              "&gt;&gt;&gt; len(G)  # number of nodes in graph\n",
              "5\n",
              "\n",
              "Often the best way to traverse all edges of a graph is via the neighbors.\n",
              "The neighbors are reported as an adjacency-dict `G.adj` or `G.adjacency()`\n",
              "\n",
              "&gt;&gt;&gt; for n, nbrsdict in G.adjacency():\n",
              "...     for nbr, eattr in nbrsdict.items():\n",
              "...         if &quot;weight&quot; in eattr:\n",
              "...             # Do something useful with the edges\n",
              "...             pass\n",
              "\n",
              "But the edges() method is often more convenient:\n",
              "\n",
              "&gt;&gt;&gt; for u, v, weight in G.edges.data(&quot;weight&quot;):\n",
              "...     if weight is not None:\n",
              "...         # Do something useful with the edges\n",
              "...         pass\n",
              "\n",
              "**Reporting:**\n",
              "\n",
              "Simple graph information is obtained using object-attributes and methods.\n",
              "Reporting typically provides views instead of containers to reduce memory\n",
              "usage. The views update as the graph is updated similarly to dict-views.\n",
              "The objects `nodes`, `edges` and `adj` provide access to data attributes\n",
              "via lookup (e.g. `nodes[n]`, `edges[u, v]`, `adj[u][v]`) and iteration\n",
              "(e.g. `nodes.items()`, `nodes.data(&#x27;color&#x27;)`,\n",
              "`nodes.data(&#x27;color&#x27;, default=&#x27;blue&#x27;)` and similarly for `edges`)\n",
              "Views exist for `nodes`, `edges`, `neighbors()`/`adj` and `degree`.\n",
              "\n",
              "For details on these and other miscellaneous methods, see below.\n",
              "\n",
              "**Subclasses (Advanced):**\n",
              "\n",
              "The Graph class uses a dict-of-dict-of-dict data structure.\n",
              "The outer dict (node_dict) holds adjacency information keyed by node.\n",
              "The next dict (adjlist_dict) represents the adjacency information and holds\n",
              "edge data keyed by neighbor.  The inner dict (edge_attr_dict) represents\n",
              "the edge data and holds edge attribute values keyed by attribute names.\n",
              "\n",
              "Each of these three dicts can be replaced in a subclass by a user defined\n",
              "dict-like object. In general, the dict-like features should be\n",
              "maintained but extra features can be added. To replace one of the\n",
              "dicts create a new graph class by changing the class(!) variable\n",
              "holding the factory for that dict-like structure.\n",
              "\n",
              "node_dict_factory : function, (default: dict)\n",
              "    Factory function to be used to create the dict containing node\n",
              "    attributes, keyed by node id.\n",
              "    It should require no arguments and return a dict-like object\n",
              "\n",
              "node_attr_dict_factory: function, (default: dict)\n",
              "    Factory function to be used to create the node attribute\n",
              "    dict which holds attribute values keyed by attribute name.\n",
              "    It should require no arguments and return a dict-like object\n",
              "\n",
              "adjlist_outer_dict_factory : function, (default: dict)\n",
              "    Factory function to be used to create the outer-most dict\n",
              "    in the data structure that holds adjacency info keyed by node.\n",
              "    It should require no arguments and return a dict-like object.\n",
              "\n",
              "adjlist_inner_dict_factory : function, (default: dict)\n",
              "    Factory function to be used to create the adjacency list\n",
              "    dict which holds edge data keyed by neighbor.\n",
              "    It should require no arguments and return a dict-like object\n",
              "\n",
              "edge_attr_dict_factory : function, (default: dict)\n",
              "    Factory function to be used to create the edge attribute\n",
              "    dict which holds attribute values keyed by attribute name.\n",
              "    It should require no arguments and return a dict-like object.\n",
              "\n",
              "graph_attr_dict_factory : function, (default: dict)\n",
              "    Factory function to be used to create the graph attribute\n",
              "    dict which holds attribute values keyed by attribute name.\n",
              "    It should require no arguments and return a dict-like object.\n",
              "\n",
              "Typically, if your extension doesn&#x27;t impact the data structure all\n",
              "methods will inherit without issue except: `to_directed/to_undirected`.\n",
              "By default these methods create a DiGraph/Graph class and you probably\n",
              "want them to create your extension of a DiGraph/Graph. To facilitate\n",
              "this we define two class variables that you can set in your subclass.\n",
              "\n",
              "to_directed_class : callable, (default: DiGraph or MultiDiGraph)\n",
              "    Class to create a new graph structure in the `to_directed` method.\n",
              "    If `None`, a NetworkX class (DiGraph or MultiDiGraph) is used.\n",
              "\n",
              "to_undirected_class : callable, (default: Graph or MultiGraph)\n",
              "    Class to create a new graph structure in the `to_undirected` method.\n",
              "    If `None`, a NetworkX class (Graph or MultiGraph) is used.\n",
              "\n",
              "**Subclassing Example**\n",
              "\n",
              "Create a low memory graph class that effectively disallows edge\n",
              "attributes by using a single attribute dict for all edges.\n",
              "This reduces the memory used, but you lose edge attributes.\n",
              "\n",
              "&gt;&gt;&gt; class ThinGraph(nx.Graph):\n",
              "...     all_edge_dict = {&quot;weight&quot;: 1}\n",
              "...\n",
              "...     def single_edge_dict(self):\n",
              "...         return self.all_edge_dict\n",
              "...\n",
              "...     edge_attr_dict_factory = single_edge_dict\n",
              "&gt;&gt;&gt; G = ThinGraph()\n",
              "&gt;&gt;&gt; G.add_edge(2, 1)\n",
              "&gt;&gt;&gt; G[2][1]\n",
              "{&#x27;weight&#x27;: 1}\n",
              "&gt;&gt;&gt; G.add_edge(2, 2)\n",
              "&gt;&gt;&gt; G[2][1] is G[2][2]\n",
              "True</pre>\n",
              "      <script>\n",
              "      if (google.colab.kernel.accessAllowed && google.colab.files && google.colab.files.view) {\n",
              "        for (const element of document.querySelectorAll('.filepath')) {\n",
              "          element.style.display = 'block'\n",
              "          element.onclick = (event) => {\n",
              "            event.preventDefault();\n",
              "            event.stopPropagation();\n",
              "            google.colab.files.view(element.textContent, 71);\n",
              "          };\n",
              "        }\n",
              "      }\n",
              "      for (const element of document.querySelectorAll('.function-repr-contents')) {\n",
              "        element.onclick = (event) => {\n",
              "          event.preventDefault();\n",
              "          event.stopPropagation();\n",
              "          element.classList.toggle('function-repr-contents-collapsed');\n",
              "        };\n",
              "      }\n",
              "      </script>\n",
              "      </div>"
            ]
          },
          "metadata": {},
          "execution_count": 460
        }
      ]
    },
    {
      "cell_type": "code",
      "metadata": {
        "id": "hDvf3nm-ors4",
        "colab": {
          "base_uri": "https://localhost:8080/",
          "height": 516
        },
        "outputId": "061494fe-a173-442b-9f48-e6a3687fb03e"
      },
      "source": [
        "# Visualize the graph\n",
        "nx.draw(G, with_labels = True)"
      ],
      "execution_count": null,
      "outputs": [
        {
          "output_type": "display_data",
          "data": {
            "text/plain": [
              "<Figure size 640x480 with 1 Axes>"
            ],
            "image/png": "[encoded data removed]"
          },
          "metadata": {}
        }
      ]
    },
    {
      "cell_type": "markdown",
      "metadata": {
        "id": "FX25Y1CrYmgN"
      },
      "source": [
        "## Question 1: What is the average degree of the karate club network? (5 Points)"
      ]
    },
    {
      "cell_type": "code",
      "metadata": {
        "id": "AUhES1VYo3tB",
        "colab": {
          "base_uri": "https://localhost:8080/"
        },
        "outputId": "258773b8-a923-4db3-cd08-bdc4ce3cc02f"
      },
      "source": [
        "def average_degree(num_edges, num_nodes):\n",
        "  # TODO: Implement this function that takes number of edges\n",
        "  # and number of nodes, and returns the average node degree of\n",
        "  # the graph. Round the result to nearest integer (for example\n",
        "  # 3.3 will be rounded to 3 and 3.7 will be rounded to 4)\n",
        "\n",
        "  avg_degree = 0\n",
        "\n",
        "  ############# Your code here ############\n",
        "\n",
        "  avg_degree = 2 * num_edges / num_nodes\n",
        "\n",
        "  #########################################\n",
        "\n",
        "  return round(avg_degree, 0)\n",
        "\n",
        "num_edges = G.number_of_edges()\n",
        "num_nodes = G.number_of_nodes()\n",
        "avg_degree = average_degree(num_edges, num_nodes)\n",
        "print(\"Average degree of karate club network is {}\".format(avg_degree))"
      ],
      "execution_count": null,
      "outputs": [
        {
          "output_type": "stream",
          "name": "stdout",
          "text": [
            "Average degree of karate club network is 5.0\n"
          ]
        }
      ]
    },
    {
      "cell_type": "markdown",
      "metadata": {
        "id": "Fk02fD4vYmZI"
      },
      "source": [
        "## Question 2: What is the average clustering coefficient of the karate club network? (5 Points)"
      ]
    },
    {
      "cell_type": "code",
      "metadata": {
        "id": "k15XKEto1aYJ",
        "colab": {
          "base_uri": "https://localhost:8080/"
        },
        "outputId": "1820a314-a13d-4be6-9a53-e9216d953a3f"
      },
      "source": [
        "def average_clustering_coefficient(G):\n",
        "  # TODO: Implement this function that takes a nx.Graph\n",
        "  # and returns the average clustering coefficient. Round\n",
        "  # the result to 2 decimal places (for example 3.333 will\n",
        "  # be rounded to 3.33 and 3.7571 will be rounded to 3.76)\n",
        "\n",
        "  avg_cluster_coef = 0\n",
        "\n",
        "  ############# Your code here ############\n",
        "  ## Note:\n",
        "  ## 1: Please use the appropriate NetworkX clustering function\n",
        "  avg_cluster_coef = nx.average_clustering(G)\n",
        "\n",
        "  #########################################\n",
        "\n",
        "  return round(avg_cluster_coef, 2)\n",
        "\n",
        "avg_cluster_coef = average_clustering_coefficient(G)\n",
        "print(\"Average clustering coefficient of karate club network is {}\".format(avg_cluster_coef))"
      ],
      "execution_count": null,
      "outputs": [
        {
          "output_type": "stream",
          "name": "stdout",
          "text": [
            "Average clustering coefficient of karate club network is 0.57\n"
          ]
        }
      ]
    },
    {
      "cell_type": "markdown",
      "metadata": {
        "id": "zghQ-AhXYmP4"
      },
      "source": [
        "## Question 3: What is the PageRank value for node 0 (node with id 0) after one PageRank iteration? (5 Points)\n",
        "\n",
        "Page Rank measures importance of nodes in a graph using the link structure of the web. A “vote” from an important page is worth more. Specifically, if  a page $i$ with importance $r_i$ has $d_i$ out-links, then each link gets $\\frac{r_i}{d_i}$ votes. Thus, the importance of a Page $j$, represented as $r_j$ is the sum of the votes on its in links.\n",
        "$$r_j = \\sum_{i \\rightarrow j} \\frac{r_i}{d_i}$$, where $d_i$ is the out degree of node $i$.\n",
        "\n",
        "The PageRank algorithm (used by Google) outputs a probability distribution which represent the likelihood of a random surfer clicking on links will arrive at any particular page. At each time step, the random surfer has two options\n",
        "- With prob. $\\beta$, follow a link at random\n",
        "- With prob. $1- \\beta$, jump to a random page\n",
        "\n",
        "Thus, the importance of a particular page is calculated with the following PageRank equation:\n",
        " $$r_j = \\sum_{i \\rightarrow j} \\beta \\frac{r_i}{d_i} + (1 - \\beta) \\frac{1}{N}$$\n",
        "\n",
        "Please complete the code block by implementing the above PageRank equation for node 0.\n",
        "\n",
        "Note - You can refer to more information from the slides here - http://snap.stanford.edu/class/cs224w-2020/slides/04-pagerank.pdf\n",
        "\n",
        "\n"
      ]
    },
    {
      "cell_type": "code",
      "metadata": {
        "id": "BOGdWjNc6O7x",
        "colab": {
          "base_uri": "https://localhost:8080/"
        },
        "outputId": "26f395b6-ba72-489e-ea6e-9c9735b5310a"
      },
      "source": [
        "def one_iter_pagerank(G, beta, r0, node_id):\n",
        "  # TODO: Implement this function that takes a nx.Graph, beta, r0 and node id.\n",
        "  # The return value r1 is one interation PageRank value for the input node.\n",
        "  # Please round r1 to 2 decimal places.\n",
        "\n",
        "  r1 = 0\n",
        "\n",
        "  ############# Your code here ############\n",
        "  ## Note:\n",
        "  ## 1: You should not use nx.pagerank\n",
        "\n",
        "  for nbr in G.neighbors(node_id):\n",
        "    r1 += beta * r0 / G.degree(nbr)\n",
        "\n",
        "  r1 += (1-beta) / G.number_of_nodes()\n",
        "\n",
        "  #########################################\n",
        "\n",
        "  return round(r1, 2)\n",
        "\n",
        "beta = 0.8\n",
        "r0 = 1 / G.number_of_nodes()\n",
        "node = 0\n",
        "r1 = one_iter_pagerank(G, beta, r0, node)\n",
        "print(\"The PageRank value for node 0 after one iteration is {}\".format(r1))"
      ],
      "execution_count": null,
      "outputs": [
        {
          "output_type": "stream",
          "name": "stdout",
          "text": [
            "The PageRank value for node 0 after one iteration is 0.13\n"
          ]
        }
      ]
    },
    {
      "cell_type": "markdown",
      "metadata": {
        "id": "icTcOULeYmIu"
      },
      "source": [
        "## Question 4: What is the (raw) closeness centrality for the karate club network node 5? (5 Points)\n",
        "\n",
        "The equation for closeness centrality is $c(v) = \\frac{1}{\\sum_{u \\neq v}\\text{shortest path length between } u \\text{ and } v}$"
      ]
    },
    {
      "cell_type": "code",
      "metadata": {
        "id": "XbCsq_tl-3ok",
        "colab": {
          "base_uri": "https://localhost:8080/"
        },
        "outputId": "480885ae-fc3a-40e8-de9f-b97176e6e59a"
      },
      "source": [
        "def closeness_centrality(G, node=5):\n",
        "  # TODO: Implement the function that calculates closeness centrality\n",
        "  # for a node in karate club network. G is the input karate club\n",
        "  # network and node is the node id in the graph. Please round the\n",
        "  # closeness centrality result to 2 decimal places.\n",
        "\n",
        "  closeness = 0\n",
        "\n",
        "  ## Note:\n",
        "  ## 1: You can use networkx closeness centrality function.\n",
        "  ## 2: Notice that networkx closeness centrality returns the normalized\n",
        "  ## closeness directly, which is different from the raw (unnormalized)\n",
        "  ## one that we learned in the lecture.\n",
        "\n",
        "  ############# Your code here ############\n",
        "\n",
        "  closeness = nx.closeness_centrality(G, node) / (G.number_of_nodes() - 1)\n",
        "\n",
        "  #########################################\n",
        "\n",
        "  return round(closeness, 2)\n",
        "\n",
        "node = 5\n",
        "closeness = closeness_centrality(G, node=node)\n",
        "print(\"The node 5 has closeness centrality {}\".format(closeness))"
      ],
      "execution_count": null,
      "outputs": [
        {
          "output_type": "stream",
          "name": "stdout",
          "text": [
            "The node 5 has closeness centrality 0.01\n"
          ]
        }
      ]
    },
    {
      "cell_type": "markdown",
      "metadata": {
        "id": "-MxvowibYl4x"
      },
      "source": [
        "# 2 Graph to Tensor\n",
        "We will then work together to transform the graph $G$ into a PyTorch tensor, so that we can perform machine learning over the graph."
      ]
    },
    {
      "cell_type": "markdown",
      "metadata": {
        "id": "eDA8PosrA-9V"
      },
      "source": [
        "## Setup\n",
        "Check if PyTorch is properly installed"
      ]
    },
    {
      "cell_type": "code",
      "metadata": {
        "id": "ntuPVat_BAf1",
        "colab": {
          "base_uri": "https://localhost:8080/"
        },
        "outputId": "28481caf-6b57-42c9-f5f2-90fd40d36974"
      },
      "source": [
        "import torch\n",
        "print(torch.__version__)"
      ],
      "execution_count": null,
      "outputs": [
        {
          "output_type": "stream",
          "name": "stdout",
          "text": [
            "2.8.0+cu126\n"
          ]
        }
      ]
    },
    {
      "cell_type": "markdown",
      "metadata": {
        "id": "fko_2wSKYlun"
      },
      "source": [
        "## PyTorch tensor basics\n",
        "\n",
        "We can generate PyTorch tensor with all zeros, ones or random values."
      ]
    },
    {
      "cell_type": "code",
      "metadata": {
        "id": "W2ySw3m-A9qF",
        "colab": {
          "base_uri": "https://localhost:8080/"
        },
        "outputId": "178b3aa9-2d01-4fcb-c2c0-d36a0baec590"
      },
      "source": [
        "# Generate 3 x 4 tensor with all ones\n",
        "ones = torch.ones(3, 4)\n",
        "print(ones)\n",
        "\n",
        "# Generate 3 x 4 tensor with all zeros\n",
        "zeros = torch.zeros(3, 4)\n",
        "print(zeros)\n",
        "\n",
        "# Generate 3 x 4 tensor with random values on the interval [0, 1)\n",
        "random_tensor = torch.rand(3, 4)\n",
        "print(random_tensor)\n",
        "\n",
        "# Get the shape of the tensor\n",
        "print(ones.shape)"
      ],
      "execution_count": null,
      "outputs": [
        {
          "output_type": "stream",
          "name": "stdout",
          "text": [
            "tensor([[1., 1., 1., 1.],\n",
            "        [1., 1., 1., 1.],\n",
            "        [1., 1., 1., 1.]])\n",
            "tensor([[0., 0., 0., 0.],\n",
            "        [0., 0., 0., 0.],\n",
            "        [0., 0., 0., 0.]])\n",
            "tensor([[0.2417, 0.9127, 0.7875, 0.6463],\n",
            "        [0.1192, 0.1317, 0.9079, 0.4481],\n",
            "        [0.0022, 0.4382, 0.3800, 0.5075]])\n",
            "torch.Size([3, 4])\n"
          ]
        }
      ]
    },
    {
      "cell_type": "markdown",
      "metadata": {
        "id": "x8mp66eHBxWC"
      },
      "source": [
        "PyTorch tensor contains elements for a single data type, the `dtype`."
      ]
    },
    {
      "cell_type": "code",
      "metadata": {
        "id": "rQiOvKJJBwq4",
        "colab": {
          "base_uri": "https://localhost:8080/"
        },
        "outputId": "013c033c-0950-428e-b6a8-14587230bd89"
      },
      "source": [
        "# Create a 3 x 4 tensor with all 32-bit floating point zeros\n",
        "zeros = torch.zeros(3, 4, dtype=torch.float32)\n",
        "print(zeros.dtype)\n",
        "\n",
        "# Change the tensor dtype to 64-bit integer\n",
        "zeros = zeros.type(torch.long)\n",
        "print(zeros.dtype)"
      ],
      "execution_count": null,
      "outputs": [
        {
          "output_type": "stream",
          "name": "stdout",
          "text": [
            "torch.float32\n",
            "torch.int64\n"
          ]
        }
      ]
    },
    {
      "cell_type": "markdown",
      "metadata": {
        "id": "I9EfegIRDkk2"
      },
      "source": [
        "## Question 5: Get the edge list of the karate club network and transform it into `torch.LongTensor`. What is the `torch.sum` value of `pos_edge_index` tensor? (10 Points)"
      ]
    },
    {
      "cell_type": "code",
      "metadata": {
        "id": "kEtVxMFID3ZT",
        "colab": {
          "base_uri": "https://localhost:8080/"
        },
        "outputId": "97c90852-7bbf-4410-b015-ece4517493f3"
      },
      "source": [
        "def graph_to_edge_list(G):\n",
        "  # TODO: Implement the function that returns the edge list of\n",
        "  # an nx.Graph. The returned edge_list should be a list of tuples\n",
        "  # where each tuple is a tuple representing an edge connected\n",
        "  # by two nodes.\n",
        "\n",
        "  edge_list = []\n",
        "\n",
        "  ############# Your code here ############\n",
        "\n",
        "  for nodeA, nodeB in G.edges():\n",
        "    edge_list.append([nodeA, nodeB])\n",
        "\n",
        "  #########################################\n",
        "\n",
        "  return edge_list\n",
        "\n",
        "def edge_list_to_tensor(edge_list):\n",
        "  # TODO: Implement the function that transforms the edge_list to\n",
        "  # tensor. The input edge_list is a list of tuples and the resulting\n",
        "  # tensor should have the shape [2, len(edge_list)].\n",
        "\n",
        "  edge_index = torch.tensor([])\n",
        "\n",
        "  ############# Your code here ############\n",
        "\n",
        "  edge_index = torch.tensor(edge_list).t()\n",
        "\n",
        "  #########################################\n",
        "\n",
        "  return edge_index\n",
        "\n",
        "pos_edge_list = graph_to_edge_list(G)\n",
        "pos_edge_index = edge_list_to_tensor(pos_edge_list)\n",
        "print(\"The pos_edge_index tensor has shape {}\".format(pos_edge_index.shape))\n",
        "print(\"The pos_edge_index tensor has sum value {}\".format(torch.sum(pos_edge_index)))"
      ],
      "execution_count": null,
      "outputs": [
        {
          "output_type": "stream",
          "name": "stdout",
          "text": [
            "The pos_edge_index tensor has shape torch.Size([2, 78])\n",
            "The pos_edge_index tensor has sum value 2535\n"
          ]
        }
      ]
    },
    {
      "cell_type": "markdown",
      "metadata": {
        "id": "UBL-ZmdHWqIu"
      },
      "source": [
        "## Question 6: Please implement following function that samples negative edges. Then answer which edges (edge_1 to edge_5) are the negative edges in the karate club network? (10 Points)\n",
        "\n",
        "\"Negative\" edges refer to the edges/links that do not exist in the graph. The term \"negative\" is borrowed from \"negative sampling\" in link prediction. It has nothing to do with the edge weights.\n",
        "\n",
        "For example, given an edge (src, dst), you should check that neither (src, dst) nor (dst, src) are edges in the Graph. If these hold true, then it is a negative edge."
      ]
    },
    {
      "cell_type": "code",
      "metadata": {
        "id": "9N8VT1f8-IJ8",
        "colab": {
          "base_uri": "https://localhost:8080/"
        },
        "outputId": "7895f748-4355-419d-c37c-ac250ee466fc"
      },
      "source": [
        "import random\n",
        "\n",
        "def sample_negative_edges(G, num_neg_samples):\n",
        "  # TODO: Implement the function that returns a list of negative edges.\n",
        "  # The number of sampled negative edges is num_neg_samples. You do not\n",
        "  # need to consider the corner case when the number of possible negative edges\n",
        "  # is less than num_neg_samples. It should be ok as long as your implementation\n",
        "  # works on the karate club network. In this implementation, self loops should\n",
        "  # not be considered as either a positive or negative edge. Also, notice that\n",
        "  # the karate club network is an undirected graph, if (0, 1) is a positive\n",
        "  # edge, do you think (1, 0) can be a negative one?\n",
        "\n",
        "  neg_edge_list = []\n",
        "\n",
        "  ############# Your code here ############\n",
        "\n",
        "  while len(neg_edge_list) < num_neg_samples:\n",
        "    node_i = random.randint(0, G.number_of_nodes() - 1)\n",
        "    node_j = random.randint(0, G.number_of_nodes() - 1)\n",
        "    if node_i != node_j and not G.has_edge(node_i, node_j) and [node_i, node_j] not in neg_edge_list:\n",
        "      neg_edge_list.append([node_i, node_j])\n",
        "\n",
        "  #########################################\n",
        "\n",
        "  return neg_edge_list\n",
        "\n",
        "# Sample 78 negative edges\n",
        "neg_edge_list = sample_negative_edges(G, len(pos_edge_list))\n",
        "\n",
        "# Transform the negative edge list to tensor\n",
        "neg_edge_index = edge_list_to_tensor(neg_edge_list)\n",
        "print(\"The neg_edge_index tensor has shape {}\".format(neg_edge_index.shape))\n",
        "\n",
        "# Which of following edges can be negative ones?\n",
        "edge_1 = (7, 1)\n",
        "edge_2 = (1, 33)\n",
        "edge_3 = (33, 22)\n",
        "edge_4 = (0, 4)\n",
        "edge_5 = (4, 2)\n",
        "\n",
        "def can_be_negative(G, edge):\n",
        "  # TODO: Implement the function that tests if an edge is a negative\n",
        "  # edge in graph G.\n",
        "\n",
        "  is_negative = False\n",
        "\n",
        "  ############# Your code here ############\n",
        "\n",
        "  is_negative = not G.has_edge(edge[0], edge[1])\n",
        "\n",
        "  #########################################\n",
        "\n",
        "  return is_negative\n",
        "\n",
        "print(f\"Edge 1 can be a negative edge: {can_be_negative(G, edge_1)}\")\n",
        "print(f\"Edge 2 can be a negative edge: {can_be_negative(G, edge_2)}\")\n",
        "print(f\"Edge 3 can be a negative edge: {can_be_negative(G, edge_3)}\")\n",
        "print(f\"Edge 4 can be a negative edge: {can_be_negative(G, edge_4)}\")\n",
        "print(f\"Edge 5 can be a negative edge: {can_be_negative(G, edge_5)}\")"
      ],
      "execution_count": null,
      "outputs": [
        {
          "output_type": "stream",
          "name": "stdout",
          "text": [
            "The neg_edge_index tensor has shape torch.Size([2, 78])\n",
            "Edge 1 can be a negative edge: False\n",
            "Edge 2 can be a negative edge: True\n",
            "Edge 3 can be a negative edge: False\n",
            "Edge 4 can be a negative edge: False\n",
            "Edge 5 can be a negative edge: True\n"
          ]
        }
      ]
    },
    {
      "cell_type": "markdown",
      "metadata": {
        "id": "Wk9Q-a-9qGsw"
      },
      "source": [
        "# 3 Node Emebedding Learning\n",
        "\n",
        "Finally, we will finish the first learning algorithm on graphs: a node embedding model.\n"
      ]
    },
    {
      "cell_type": "markdown",
      "metadata": {
        "id": "NDBxRQcZ_dUH"
      },
      "source": [
        "## Setup"
      ]
    },
    {
      "cell_type": "code",
      "metadata": {
        "id": "Lnqn9H6s_ehX",
        "colab": {
          "base_uri": "https://localhost:8080/"
        },
        "outputId": "0c39b7cb-67cf-44f0-d6ec-5e60216b2740"
      },
      "source": [
        "import torch\n",
        "import torch.nn as nn\n",
        "import matplotlib.pyplot as plt\n",
        "from sklearn.decomposition import PCA\n",
        "\n",
        "print(torch.__version__)"
      ],
      "execution_count": null,
      "outputs": [
        {
          "output_type": "stream",
          "name": "stdout",
          "text": [
            "2.8.0+cu126\n"
          ]
        }
      ]
    },
    {
      "cell_type": "markdown",
      "metadata": {
        "id": "6gomAf8vxq0R"
      },
      "source": [
        "To write our own node embedding learning methods, we'll heavily use the [`nn.Embedding`](https://pytorch.org/docs/stable/generated/torch.nn.Embedding.html) module in PyTorch. Let's see how to use `nn.Embedding`:"
      ]
    },
    {
      "cell_type": "code",
      "metadata": {
        "id": "aRiWGuLAx5yx",
        "colab": {
          "base_uri": "https://localhost:8080/"
        },
        "outputId": "3129c88f-52fd-48d0-bc95-b8e9a6e1501d"
      },
      "source": [
        "# Initialize an embedding layer\n",
        "# Suppose we want to have embedding for 4 items (e.g., nodes)\n",
        "# Each item is represented with 8 dimensional vector\n",
        "\n",
        "emb_sample = nn.Embedding(num_embeddings=4, embedding_dim=8)\n",
        "print('Sample embedding layer: {}'.format(emb_sample))"
      ],
      "execution_count": null,
      "outputs": [
        {
          "output_type": "stream",
          "name": "stdout",
          "text": [
            "Sample embedding layer: Embedding(4, 8)\n"
          ]
        }
      ]
    },
    {
      "cell_type": "markdown",
      "metadata": {
        "id": "bS9qQfeujEVh"
      },
      "source": [
        "We can select items from the embedding matrix, by using Tensor indices"
      ]
    },
    {
      "cell_type": "code",
      "metadata": {
        "id": "9AGIfP4QEDr8",
        "colab": {
          "base_uri": "https://localhost:8080/"
        },
        "outputId": "4c617725-ec8a-4a50-a639-27acccfbebde"
      },
      "source": [
        "# Select an embedding in emb_sample\n",
        "id = torch.LongTensor([1])\n",
        "print(emb_sample(id))\n",
        "\n",
        "# Select multiple embeddings\n",
        "ids = torch.LongTensor([1, 3])\n",
        "print(emb_sample(ids))\n",
        "\n",
        "# Get the shape of the embedding weight matrix\n",
        "shape = emb_sample.weight.data.shape\n",
        "print(shape)\n",
        "\n",
        "# Overwrite the weight to tensor with all ones\n",
        "emb_sample.weight.data = torch.ones(shape)\n",
        "\n",
        "# Let's check if the emb is indeed initilized\n",
        "ids = torch.LongTensor([0, 3])\n",
        "print(emb_sample(ids))"
      ],
      "execution_count": null,
      "outputs": [
        {
          "output_type": "stream",
          "name": "stdout",
          "text": [
            "tensor([[-4.4258e-01, -1.5349e+00,  1.1118e-03, -8.3201e-01,  6.3567e-01,\n",
            "         -7.7746e-01, -5.5710e-02, -4.4338e-02]], grad_fn=<EmbeddingBackward0>)\n",
            "tensor([[-4.4258e-01, -1.5349e+00,  1.1118e-03, -8.3201e-01,  6.3567e-01,\n",
            "         -7.7746e-01, -5.5710e-02, -4.4338e-02],\n",
            "        [ 4.5921e-01,  8.7926e-02,  9.4428e-01, -7.5985e-01,  1.6396e+00,\n",
            "         -1.9154e+00, -1.8657e+00, -6.7076e-01]], grad_fn=<EmbeddingBackward0>)\n",
            "torch.Size([4, 8])\n",
            "tensor([[1., 1., 1., 1., 1., 1., 1., 1.],\n",
            "        [1., 1., 1., 1., 1., 1., 1., 1.]], grad_fn=<EmbeddingBackward0>)\n"
          ]
        }
      ]
    },
    {
      "cell_type": "markdown",
      "metadata": {
        "id": "8MjBuDKaKIsM"
      },
      "source": [
        "Now, it's your time to create node embedding matrix for the graph we have!\n",
        "- We want to have **16 dimensional** vector for each node in the karate club network.\n",
        "- We want to initalize the matrix under **uniform distribution**, in the range of $[0, 1)$. We suggest you using [`torch.rand`](https://pytorch.org/docs/stable/generated/torch.rand.html)."
      ]
    },
    {
      "cell_type": "code",
      "metadata": {
        "id": "hMszSwRPKGn1",
        "colab": {
          "base_uri": "https://localhost:8080/"
        },
        "outputId": "bf445540-70c0-4772-96eb-7967683d9a48"
      },
      "source": [
        "# Please do not change / reset the random seed\n",
        "torch.manual_seed(1)\n",
        "\n",
        "def create_node_emb(num_node=34, embedding_dim=16):\n",
        "  # TODO: Implement this function that will create the node embedding matrix.\n",
        "  # A torch.nn.Embedding layer will be returned. You do not need to change\n",
        "  # the values of num_node and embedding_dim. The weight matrix of returned\n",
        "  # layer should be initialized under uniform distribution.\n",
        "\n",
        "  emb = None\n",
        "\n",
        "  ############# Your code here ############\n",
        "\n",
        "  emb = nn.Embedding(num_node, embedding_dim)\n",
        "  emb.weight.data = torch.rand(emb.weight.data.shape)\n",
        "\n",
        "  #########################################\n",
        "\n",
        "  return emb\n",
        "\n",
        "emb = create_node_emb()\n",
        "ids = torch.LongTensor([0, 3])\n",
        "\n",
        "# Print the embedding layer\n",
        "print(\"Embedding: {}\".format(emb))\n",
        "\n",
        "# An example that gets the embeddings for node 0 and 3\n",
        "print(emb(ids))"
      ],
      "execution_count": null,
      "outputs": [
        {
          "output_type": "stream",
          "name": "stdout",
          "text": [
            "Embedding: Embedding(34, 16)\n",
            "tensor([[0.2114, 0.7335, 0.1433, 0.9647, 0.2933, 0.7951, 0.5170, 0.2801, 0.8339,\n",
            "         0.1185, 0.2355, 0.5599, 0.8966, 0.2858, 0.1955, 0.1808],\n",
            "        [0.7486, 0.6546, 0.3843, 0.9820, 0.6012, 0.3710, 0.4929, 0.9915, 0.8358,\n",
            "         0.4629, 0.9902, 0.7196, 0.2338, 0.0450, 0.7906, 0.9689]],\n",
            "       grad_fn=<EmbeddingBackward0>)\n"
          ]
        }
      ]
    },
    {
      "cell_type": "markdown",
      "metadata": {
        "id": "4QfoANibTzyh"
      },
      "source": [
        "## Visualize the initial node embeddings\n",
        "One good way to understand an embedding matrix, is to visualize it in a 2D space.\n",
        "Here, we have implemented an embedding visualization function for you.\n",
        "We first do PCA to reduce the dimensionality of embeddings to a 2D space.\n",
        "Then we visualize each point, colored by the community it belongs to."
      ]
    },
    {
      "cell_type": "code",
      "metadata": {
        "id": "_LCoIkarhfYD",
        "colab": {
          "base_uri": "https://localhost:8080/",
          "height": 522
        },
        "outputId": "230f3a88-5e53-4768-c7c2-ef1d51c94c71"
      },
      "source": [
        "def visualize_emb(emb):\n",
        "  X = emb.weight.data.numpy()\n",
        "  pca = PCA(n_components=2)\n",
        "  components = pca.fit_transform(X)\n",
        "  plt.figure(figsize=(6, 6))\n",
        "  club1_x = []\n",
        "  club1_y = []\n",
        "  club2_x = []\n",
        "  club2_y = []\n",
        "  for node in G.nodes(data=True):\n",
        "    if node[1]['club'] == 'Mr. Hi':\n",
        "      club1_x.append(components[node[0]][0])\n",
        "      club1_y.append(components[node[0]][1])\n",
        "    else:\n",
        "      club2_x.append(components[node[0]][0])\n",
        "      club2_y.append(components[node[0]][1])\n",
        "  plt.scatter(club1_x, club1_y, color=\"red\", label=\"Mr. Hi\")\n",
        "  plt.scatter(club2_x, club2_y, color=\"blue\", label=\"Officer\")\n",
        "  plt.legend()\n",
        "  plt.show()\n",
        "\n",
        "# Visualize the initial random embeddding\n",
        "visualize_emb(emb)"
      ],
      "execution_count": null,
      "outputs": [
        {
          "output_type": "display_data",
          "data": {
            "text/plain": [
              "<Figure size 600x600 with 1 Axes>"
            ],
            "image/png": "[encoded data removed]"
          },
          "metadata": {}
        }
      ]
    },
    {
      "cell_type": "markdown",
      "metadata": {
        "id": "bQIyuEz9ANb2"
      },
      "source": [
        "## Question 7: Training the embedding! What is the best performance you can get? (20 Points)\n",
        "\n",
        "We want to optimize our embeddings for the task of classifying edges as positive or negative. Given an edge and the embeddings for each node, the dot product of the embeddings, followed by a sigmoid, should give us the likelihood of that edge being either positive (output of sigmoid > 0.5) or negative (output of sigmoid < 0.5).\n",
        "\n",
        "Note that we're using the functions you wrote in the previous questions, _as well as the variables initialized in previous cells_. If you're running into issues, make sure your answers to questions 1-6 are correct."
      ]
    },
    {
      "cell_type": "code",
      "metadata": {
        "id": "RDeQTNNxqH0j",
        "colab": {
          "base_uri": "https://localhost:8080/"
        },
        "outputId": "efaddfbb-ccd8-493a-c50e-0f923f389a82"
      },
      "source": [
        "from torch.optim import SGD\n",
        "import torch.nn as nn\n",
        "\n",
        "def accuracy(pred, label):\n",
        "  # TODO: Implement the accuracy function. This function takes the\n",
        "  # pred tensor (the resulting tensor after sigmoid) and the label\n",
        "  # tensor (torch.LongTensor). Predicted value greater than 0.5 will\n",
        "  # be classified as label 1. Else it will be classified as label 0.\n",
        "  # The returned accuracy should be rounded to 4 decimal places.\n",
        "  # For example, accuracy 0.82956 will be rounded to 0.8296.\n",
        "\n",
        "  accu = 0.0\n",
        "\n",
        "  ############# Your code here ############\n",
        "\n",
        "  accu = torch.mean(\n",
        "    torch.where(\n",
        "      torch.where(pred > 0.5, 1, 0) == label, 1, 0).float()\n",
        "  ).item()\n",
        "\n",
        "  #########################################\n",
        "\n",
        "  return round(accu, 4)\n",
        "\n",
        "def train(emb, loss_fn, train_label, train_edge):\n",
        "  # TODO: Train the embedding layer here. You can also change epochs and\n",
        "  # learning rate. In general, you need to implement:\n",
        "  # (1) Get the embeddings of the nodes in train_edge\n",
        "  # (2) Dot product the embeddings between each node pair\n",
        "  # (3) Feed the dot product result into sigmoid\n",
        "  # (4) Feed the sigmoid output into the loss_fn\n",
        "  # (5) Print both loss and accuracy of each epoch\n",
        "  # (6) Update the embeddings using the loss and optimizer\n",
        "  # (as a sanity check, the loss should decrease during training)\n",
        "\n",
        "  epochs = 500\n",
        "  learning_rate = 0.1\n",
        "\n",
        "  optimizer = SGD(emb.parameters(), lr=learning_rate, momentum=0.9)\n",
        "  sigmoid = nn.Sigmoid()\n",
        "\n",
        "  for i in range(epochs):\n",
        "\n",
        "    ############# Your code here ############\n",
        "\n",
        "    optimizer.zero_grad()\n",
        "\n",
        "    ids = torch.LongTensor(train_edge)\n",
        "    embeddings = emb(ids)\n",
        "\n",
        "    dot = torch.diag(torch.mm(embeddings[0], embeddings[1].t()))\n",
        "    sig = sigmoid(dot)\n",
        "    acc = accuracy(sig, train_label)\n",
        "    loss = loss_fn(sig, train_label)\n",
        "\n",
        "    print(\"Epoch: {} Loss: {} and Accuracy: {}\".format(i, round(loss.item(), 4), acc))\n",
        "\n",
        "    loss.backward()\n",
        "    optimizer.step()\n",
        "\n",
        "    #########################################\n",
        "\n",
        "  return emb\n",
        "\n",
        "loss_fn = nn.BCELoss()\n",
        "\n",
        "print(pos_edge_index.shape)\n",
        "\n",
        "# Generate the positive and negative labels\n",
        "pos_label = torch.ones(pos_edge_index.shape[1], )\n",
        "neg_label = torch.zeros(neg_edge_index.shape[1], )\n",
        "\n",
        "# Concat positive and negative labels into one tensor\n",
        "train_label = torch.cat([pos_label, neg_label], dim=0)\n",
        "\n",
        "# Concat positive and negative edges into one tensor\n",
        "# Since the network is very small, we do not split the edges into val/test sets\n",
        "train_edge = torch.cat([pos_edge_index, neg_edge_index], dim=1)\n",
        "print(train_edge.shape)\n",
        "\n",
        "train(emb, loss_fn, train_label, train_edge)"
      ],
      "execution_count": null,
      "outputs": [
        {
          "output_type": "stream",
          "name": "stdout",
          "text": [
            "torch.Size([2, 78])\n",
            "torch.Size([2, 156])\n",
            "Epoch: 0 Loss: 2.0128 and Accuracy: 0.5\n",
            "Epoch: 1 Loss: 1.9988 and Accuracy: 0.5\n",
            "Epoch: 2 Loss: 1.9724 and Accuracy: 0.5\n",
            "Epoch: 3 Loss: 1.9352 and Accuracy: 0.5\n",
            "Epoch: 4 Loss: 1.889 and Accuracy: 0.5\n",
            "Epoch: 5 Loss: 1.8351 and Accuracy: 0.5\n",
            "Epoch: 6 Loss: 1.7753 and Accuracy: 0.5\n",
            "Epoch: 7 Loss: 1.7108 and Accuracy: 0.5\n",
            "Epoch: 8 Loss: 1.6431 and Accuracy: 0.5\n",
            "Epoch: 9 Loss: 1.5734 and Accuracy: 0.5\n",
            "Epoch: 10 Loss: 1.5028 and Accuracy: 0.5\n",
            "Epoch: 11 Loss: 1.4323 and Accuracy: 0.5\n",
            "Epoch: 12 Loss: 1.3628 and Accuracy: 0.5\n",
            "Epoch: 13 Loss: 1.2951 and Accuracy: 0.5\n",
            "Epoch: 14 Loss: 1.2298 and Accuracy: 0.5\n",
            "Epoch: 15 Loss: 1.1675 and Accuracy: 0.5\n",
            "Epoch: 16 Loss: 1.1085 and Accuracy: 0.5\n",
            "Epoch: 17 Loss: 1.0532 and Accuracy: 0.5\n",
            "Epoch: 18 Loss: 1.0017 and Accuracy: 0.5\n",
            "Epoch: 19 Loss: 0.9539 and Accuracy: 0.5\n",
            "Epoch: 20 Loss: 0.91 and Accuracy: 0.5\n",
            "Epoch: 21 Loss: 0.8698 and Accuracy: 0.5128\n",
            "Epoch: 22 Loss: 0.8331 and Accuracy: 0.5128\n",
            "Epoch: 23 Loss: 0.7997 and Accuracy: 0.5128\n",
            "Epoch: 24 Loss: 0.7694 and Accuracy: 0.5256\n",
            "Epoch: 25 Loss: 0.742 and Accuracy: 0.5385\n",
            "Epoch: 26 Loss: 0.7172 and Accuracy: 0.5513\n",
            "Epoch: 27 Loss: 0.6948 and Accuracy: 0.5705\n",
            "Epoch: 28 Loss: 0.6745 and Accuracy: 0.5962\n",
            "Epoch: 29 Loss: 0.6561 and Accuracy: 0.609\n",
            "Epoch: 30 Loss: 0.6395 and Accuracy: 0.6346\n",
            "Epoch: 31 Loss: 0.6244 and Accuracy: 0.641\n",
            "Epoch: 32 Loss: 0.6106 and Accuracy: 0.6538\n",
            "Epoch: 33 Loss: 0.5981 and Accuracy: 0.6474\n",
            "Epoch: 34 Loss: 0.5866 and Accuracy: 0.6667\n",
            "Epoch: 35 Loss: 0.576 and Accuracy: 0.6859\n",
            "Epoch: 36 Loss: 0.5662 and Accuracy: 0.6859\n",
            "Epoch: 37 Loss: 0.5572 and Accuracy: 0.6987\n",
            "Epoch: 38 Loss: 0.5488 and Accuracy: 0.7051\n",
            "Epoch: 39 Loss: 0.541 and Accuracy: 0.7179\n",
            "Epoch: 40 Loss: 0.5337 and Accuracy: 0.7372\n",
            "Epoch: 41 Loss: 0.5268 and Accuracy: 0.7564\n",
            "Epoch: 42 Loss: 0.5203 and Accuracy: 0.7692\n",
            "Epoch: 43 Loss: 0.5141 and Accuracy: 0.7756\n",
            "Epoch: 44 Loss: 0.5082 and Accuracy: 0.7692\n",
            "Epoch: 45 Loss: 0.5026 and Accuracy: 0.7885\n",
            "Epoch: 46 Loss: 0.4972 and Accuracy: 0.7949\n",
            "Epoch: 47 Loss: 0.492 and Accuracy: 0.7949\n",
            "Epoch: 48 Loss: 0.487 and Accuracy: 0.8077\n",
            "Epoch: 49 Loss: 0.4822 and Accuracy: 0.8269\n",
            "Epoch: 50 Loss: 0.4775 and Accuracy: 0.8269\n",
            "Epoch: 51 Loss: 0.4729 and Accuracy: 0.8397\n",
            "Epoch: 52 Loss: 0.4685 and Accuracy: 0.8397\n",
            "Epoch: 53 Loss: 0.4641 and Accuracy: 0.8397\n",
            "Epoch: 54 Loss: 0.4598 and Accuracy: 0.8333\n",
            "Epoch: 55 Loss: 0.4556 and Accuracy: 0.8333\n",
            "Epoch: 56 Loss: 0.4515 and Accuracy: 0.8333\n",
            "Epoch: 57 Loss: 0.4475 and Accuracy: 0.8397\n",
            "Epoch: 58 Loss: 0.4435 and Accuracy: 0.8462\n",
            "Epoch: 59 Loss: 0.4395 and Accuracy: 0.8462\n",
            "Epoch: 60 Loss: 0.4356 and Accuracy: 0.8462\n",
            "Epoch: 61 Loss: 0.4318 and Accuracy: 0.8462\n",
            "Epoch: 62 Loss: 0.4279 and Accuracy: 0.8462\n",
            "Epoch: 63 Loss: 0.4242 and Accuracy: 0.8462\n",
            "Epoch: 64 Loss: 0.4204 and Accuracy: 0.8462\n",
            "Epoch: 65 Loss: 0.4167 and Accuracy: 0.8526\n",
            "Epoch: 66 Loss: 0.413 and Accuracy: 0.8526\n",
            "Epoch: 67 Loss: 0.4093 and Accuracy: 0.8654\n",
            "Epoch: 68 Loss: 0.4056 and Accuracy: 0.891\n",
            "Epoch: 69 Loss: 0.402 and Accuracy: 0.891\n",
            "Epoch: 70 Loss: 0.3984 and Accuracy: 0.891\n",
            "Epoch: 71 Loss: 0.3948 and Accuracy: 0.8974\n",
            "Epoch: 72 Loss: 0.3912 and Accuracy: 0.9038\n",
            "Epoch: 73 Loss: 0.3877 and Accuracy: 0.9038\n",
            "Epoch: 74 Loss: 0.3841 and Accuracy: 0.9038\n",
            "Epoch: 75 Loss: 0.3806 and Accuracy: 0.9103\n",
            "Epoch: 76 Loss: 0.377 and Accuracy: 0.9103\n",
            "Epoch: 77 Loss: 0.3735 and Accuracy: 0.9103\n",
            "Epoch: 78 Loss: 0.37 and Accuracy: 0.9103\n",
            "Epoch: 79 Loss: 0.3665 and Accuracy: 0.9103\n",
            "Epoch: 80 Loss: 0.3631 and Accuracy: 0.9103\n",
            "Epoch: 81 Loss: 0.3596 and Accuracy: 0.9103\n",
            "Epoch: 82 Loss: 0.3561 and Accuracy: 0.9103\n",
            "Epoch: 83 Loss: 0.3527 and Accuracy: 0.9167\n",
            "Epoch: 84 Loss: 0.3492 and Accuracy: 0.9231\n",
            "Epoch: 85 Loss: 0.3458 and Accuracy: 0.9295\n",
            "Epoch: 86 Loss: 0.3424 and Accuracy: 0.9295\n",
            "Epoch: 87 Loss: 0.339 and Accuracy: 0.9295\n",
            "Epoch: 88 Loss: 0.3355 and Accuracy: 0.9295\n",
            "Epoch: 89 Loss: 0.3322 and Accuracy: 0.9295\n",
            "Epoch: 90 Loss: 0.3288 and Accuracy: 0.9295\n",
            "Epoch: 91 Loss: 0.3254 and Accuracy: 0.9359\n",
            "Epoch: 92 Loss: 0.322 and Accuracy: 0.9359\n",
            "Epoch: 93 Loss: 0.3187 and Accuracy: 0.9359\n",
            "Epoch: 94 Loss: 0.3153 and Accuracy: 0.9423\n",
            "Epoch: 95 Loss: 0.312 and Accuracy: 0.9487\n",
            "Epoch: 96 Loss: 0.3087 and Accuracy: 0.9487\n",
            "Epoch: 97 Loss: 0.3054 and Accuracy: 0.9487\n",
            "Epoch: 98 Loss: 0.3021 and Accuracy: 0.9551\n",
            "Epoch: 99 Loss: 0.2988 and Accuracy: 0.9551\n",
            "Epoch: 100 Loss: 0.2956 and Accuracy: 0.9551\n",
            "Epoch: 101 Loss: 0.2923 and Accuracy: 0.9615\n",
            "Epoch: 102 Loss: 0.2891 and Accuracy: 0.9679\n",
            "Epoch: 103 Loss: 0.2859 and Accuracy: 0.9679\n",
            "Epoch: 104 Loss: 0.2827 and Accuracy: 0.9679\n",
            "Epoch: 105 Loss: 0.2795 and Accuracy: 0.9679\n",
            "Epoch: 106 Loss: 0.2763 and Accuracy: 0.9679\n",
            "Epoch: 107 Loss: 0.2731 and Accuracy: 0.9679\n",
            "Epoch: 108 Loss: 0.27 and Accuracy: 0.9679\n",
            "Epoch: 109 Loss: 0.2669 and Accuracy: 0.9808\n",
            "Epoch: 110 Loss: 0.2638 and Accuracy: 0.9808\n",
            "Epoch: 111 Loss: 0.2607 and Accuracy: 0.9808\n",
            "Epoch: 112 Loss: 0.2577 and Accuracy: 0.9808\n",
            "Epoch: 113 Loss: 0.2547 and Accuracy: 0.9808\n",
            "Epoch: 114 Loss: 0.2517 and Accuracy: 0.9808\n",
            "Epoch: 115 Loss: 0.2487 and Accuracy: 0.9808\n",
            "Epoch: 116 Loss: 0.2457 and Accuracy: 0.9936\n",
            "Epoch: 117 Loss: 0.2428 and Accuracy: 0.9936\n",
            "Epoch: 118 Loss: 0.2399 and Accuracy: 0.9936\n",
            "Epoch: 119 Loss: 0.237 and Accuracy: 0.9936\n",
            "Epoch: 120 Loss: 0.2341 and Accuracy: 0.9936\n",
            "Epoch: 121 Loss: 0.2313 and Accuracy: 0.9936\n",
            "Epoch: 122 Loss: 0.2285 and Accuracy: 0.9936\n",
            "Epoch: 123 Loss: 0.2257 and Accuracy: 0.9936\n",
            "Epoch: 124 Loss: 0.2229 and Accuracy: 0.9936\n",
            "Epoch: 125 Loss: 0.2202 and Accuracy: 0.9936\n",
            "Epoch: 126 Loss: 0.2175 and Accuracy: 0.9936\n",
            "Epoch: 127 Loss: 0.2148 and Accuracy: 0.9936\n",
            "Epoch: 128 Loss: 0.2122 and Accuracy: 0.9936\n",
            "Epoch: 129 Loss: 0.2096 and Accuracy: 0.9936\n",
            "Epoch: 130 Loss: 0.207 and Accuracy: 0.9936\n",
            "Epoch: 131 Loss: 0.2044 and Accuracy: 0.9936\n",
            "Epoch: 132 Loss: 0.2019 and Accuracy: 0.9936\n",
            "Epoch: 133 Loss: 0.1994 and Accuracy: 0.9936\n",
            "Epoch: 134 Loss: 0.1969 and Accuracy: 0.9936\n",
            "Epoch: 135 Loss: 0.1945 and Accuracy: 0.9936\n",
            "Epoch: 136 Loss: 0.1921 and Accuracy: 0.9936\n",
            "Epoch: 137 Loss: 0.1897 and Accuracy: 0.9936\n",
            "Epoch: 138 Loss: 0.1873 and Accuracy: 0.9936\n",
            "Epoch: 139 Loss: 0.185 and Accuracy: 0.9936\n",
            "Epoch: 140 Loss: 0.1827 and Accuracy: 0.9936\n",
            "Epoch: 141 Loss: 0.1805 and Accuracy: 0.9936\n",
            "Epoch: 142 Loss: 0.1783 and Accuracy: 0.9936\n",
            "Epoch: 143 Loss: 0.1761 and Accuracy: 0.9936\n",
            "Epoch: 144 Loss: 0.1739 and Accuracy: 0.9936\n",
            "Epoch: 145 Loss: 0.1717 and Accuracy: 0.9936\n",
            "Epoch: 146 Loss: 0.1696 and Accuracy: 0.9936\n",
            "Epoch: 147 Loss: 0.1676 and Accuracy: 0.9936\n",
            "Epoch: 148 Loss: 0.1655 and Accuracy: 0.9936\n",
            "Epoch: 149 Loss: 0.1635 and Accuracy: 0.9936\n",
            "Epoch: 150 Loss: 0.1615 and Accuracy: 0.9936\n",
            "Epoch: 151 Loss: 0.1595 and Accuracy: 0.9936\n",
            "Epoch: 152 Loss: 0.1576 and Accuracy: 1.0\n",
            "Epoch: 153 Loss: 0.1557 and Accuracy: 1.0\n",
            "Epoch: 154 Loss: 0.1538 and Accuracy: 1.0\n",
            "Epoch: 155 Loss: 0.152 and Accuracy: 1.0\n",
            "Epoch: 156 Loss: 0.1501 and Accuracy: 1.0\n",
            "Epoch: 157 Loss: 0.1483 and Accuracy: 1.0\n",
            "Epoch: 158 Loss: 0.1466 and Accuracy: 1.0\n",
            "Epoch: 159 Loss: 0.1448 and Accuracy: 1.0\n",
            "Epoch: 160 Loss: 0.1431 and Accuracy: 1.0\n",
            "Epoch: 161 Loss: 0.1414 and Accuracy: 1.0\n",
            "Epoch: 162 Loss: 0.1398 and Accuracy: 1.0\n",
            "Epoch: 163 Loss: 0.1381 and Accuracy: 1.0\n",
            "Epoch: 164 Loss: 0.1365 and Accuracy: 1.0\n",
            "Epoch: 165 Loss: 0.1349 and Accuracy: 1.0\n",
            "Epoch: 166 Loss: 0.1334 and Accuracy: 1.0\n",
            "Epoch: 167 Loss: 0.1318 and Accuracy: 1.0\n",
            "Epoch: 168 Loss: 0.1303 and Accuracy: 1.0\n",
            "Epoch: 169 Loss: 0.1288 and Accuracy: 1.0\n",
            "Epoch: 170 Loss: 0.1273 and Accuracy: 1.0\n",
            "Epoch: 171 Loss: 0.1259 and Accuracy: 1.0\n",
            "Epoch: 172 Loss: 0.1245 and Accuracy: 1.0\n",
            "Epoch: 173 Loss: 0.1231 and Accuracy: 1.0\n",
            "Epoch: 174 Loss: 0.1217 and Accuracy: 1.0\n",
            "Epoch: 175 Loss: 0.1203 and Accuracy: 1.0\n",
            "Epoch: 176 Loss: 0.119 and Accuracy: 1.0\n",
            "Epoch: 177 Loss: 0.1177 and Accuracy: 1.0\n",
            "Epoch: 178 Loss: 0.1164 and Accuracy: 1.0\n",
            "Epoch: 179 Loss: 0.1151 and Accuracy: 1.0\n",
            "Epoch: 180 Loss: 0.1138 and Accuracy: 1.0\n",
            "Epoch: 181 Loss: 0.1126 and Accuracy: 1.0\n",
            "Epoch: 182 Loss: 0.1114 and Accuracy: 1.0\n",
            "Epoch: 183 Loss: 0.1102 and Accuracy: 1.0\n",
            "Epoch: 184 Loss: 0.109 and Accuracy: 1.0\n",
            "Epoch: 185 Loss: 0.1078 and Accuracy: 1.0\n",
            "Epoch: 186 Loss: 0.1067 and Accuracy: 1.0\n",
            "Epoch: 187 Loss: 0.1055 and Accuracy: 1.0\n",
            "Epoch: 188 Loss: 0.1044 and Accuracy: 1.0\n",
            "Epoch: 189 Loss: 0.1033 and Accuracy: 1.0\n",
            "Epoch: 190 Loss: 0.1023 and Accuracy: 1.0\n",
            "Epoch: 191 Loss: 0.1012 and Accuracy: 1.0\n",
            "Epoch: 192 Loss: 0.1001 and Accuracy: 1.0\n",
            "Epoch: 193 Loss: 0.0991 and Accuracy: 1.0\n",
            "Epoch: 194 Loss: 0.0981 and Accuracy: 1.0\n",
            "Epoch: 195 Loss: 0.0971 and Accuracy: 1.0\n",
            "Epoch: 196 Loss: 0.0961 and Accuracy: 1.0\n",
            "Epoch: 197 Loss: 0.0951 and Accuracy: 1.0\n",
            "Epoch: 198 Loss: 0.0942 and Accuracy: 1.0\n",
            "Epoch: 199 Loss: 0.0932 and Accuracy: 1.0\n",
            "Epoch: 200 Loss: 0.0923 and Accuracy: 1.0\n",
            "Epoch: 201 Loss: 0.0914 and Accuracy: 1.0\n",
            "Epoch: 202 Loss: 0.0905 and Accuracy: 1.0\n",
            "Epoch: 203 Loss: 0.0896 and Accuracy: 1.0\n",
            "Epoch: 204 Loss: 0.0887 and Accuracy: 1.0\n",
            "Epoch: 205 Loss: 0.0879 and Accuracy: 1.0\n",
            "Epoch: 206 Loss: 0.087 and Accuracy: 1.0\n",
            "Epoch: 207 Loss: 0.0862 and Accuracy: 1.0\n",
            "Epoch: 208 Loss: 0.0854 and Accuracy: 1.0\n",
            "Epoch: 209 Loss: 0.0845 and Accuracy: 1.0\n",
            "Epoch: 210 Loss: 0.0837 and Accuracy: 1.0\n",
            "Epoch: 211 Loss: 0.0829 and Accuracy: 1.0\n",
            "Epoch: 212 Loss: 0.0822 and Accuracy: 1.0\n",
            "Epoch: 213 Loss: 0.0814 and Accuracy: 1.0\n",
            "Epoch: 214 Loss: 0.0806 and Accuracy: 1.0\n",
            "Epoch: 215 Loss: 0.0799 and Accuracy: 1.0\n",
            "Epoch: 216 Loss: 0.0792 and Accuracy: 1.0\n",
            "Epoch: 217 Loss: 0.0784 and Accuracy: 1.0\n",
            "Epoch: 218 Loss: 0.0777 and Accuracy: 1.0\n",
            "Epoch: 219 Loss: 0.077 and Accuracy: 1.0\n",
            "Epoch: 220 Loss: 0.0763 and Accuracy: 1.0\n",
            "Epoch: 221 Loss: 0.0756 and Accuracy: 1.0\n",
            "Epoch: 222 Loss: 0.0749 and Accuracy: 1.0\n",
            "Epoch: 223 Loss: 0.0743 and Accuracy: 1.0\n",
            "Epoch: 224 Loss: 0.0736 and Accuracy: 1.0\n",
            "Epoch: 225 Loss: 0.073 and Accuracy: 1.0\n",
            "Epoch: 226 Loss: 0.0723 and Accuracy: 1.0\n",
            "Epoch: 227 Loss: 0.0717 and Accuracy: 1.0\n",
            "Epoch: 228 Loss: 0.0711 and Accuracy: 1.0\n",
            "Epoch: 229 Loss: 0.0705 and Accuracy: 1.0\n",
            "Epoch: 230 Loss: 0.0698 and Accuracy: 1.0\n",
            "Epoch: 231 Loss: 0.0692 and Accuracy: 1.0\n",
            "Epoch: 232 Loss: 0.0686 and Accuracy: 1.0\n",
            "Epoch: 233 Loss: 0.0681 and Accuracy: 1.0\n",
            "Epoch: 234 Loss: 0.0675 and Accuracy: 1.0\n",
            "Epoch: 235 Loss: 0.0669 and Accuracy: 1.0\n",
            "Epoch: 236 Loss: 0.0664 and Accuracy: 1.0\n",
            "Epoch: 237 Loss: 0.0658 and Accuracy: 1.0\n",
            "Epoch: 238 Loss: 0.0653 and Accuracy: 1.0\n",
            "Epoch: 239 Loss: 0.0647 and Accuracy: 1.0\n",
            "Epoch: 240 Loss: 0.0642 and Accuracy: 1.0\n",
            "Epoch: 241 Loss: 0.0637 and Accuracy: 1.0\n",
            "Epoch: 242 Loss: 0.0631 and Accuracy: 1.0\n",
            "Epoch: 243 Loss: 0.0626 and Accuracy: 1.0\n",
            "Epoch: 244 Loss: 0.0621 and Accuracy: 1.0\n",
            "Epoch: 245 Loss: 0.0616 and Accuracy: 1.0\n",
            "Epoch: 246 Loss: 0.0611 and Accuracy: 1.0\n",
            "Epoch: 247 Loss: 0.0606 and Accuracy: 1.0\n",
            "Epoch: 248 Loss: 0.0602 and Accuracy: 1.0\n",
            "Epoch: 249 Loss: 0.0597 and Accuracy: 1.0\n",
            "Epoch: 250 Loss: 0.0592 and Accuracy: 1.0\n",
            "Epoch: 251 Loss: 0.0587 and Accuracy: 1.0\n",
            "Epoch: 252 Loss: 0.0583 and Accuracy: 1.0\n",
            "Epoch: 253 Loss: 0.0578 and Accuracy: 1.0\n",
            "Epoch: 254 Loss: 0.0574 and Accuracy: 1.0\n",
            "Epoch: 255 Loss: 0.0569 and Accuracy: 1.0\n",
            "Epoch: 256 Loss: 0.0565 and Accuracy: 1.0\n",
            "Epoch: 257 Loss: 0.0561 and Accuracy: 1.0\n",
            "Epoch: 258 Loss: 0.0557 and Accuracy: 1.0\n",
            "Epoch: 259 Loss: 0.0552 and Accuracy: 1.0\n",
            "Epoch: 260 Loss: 0.0548 and Accuracy: 1.0\n",
            "Epoch: 261 Loss: 0.0544 and Accuracy: 1.0\n",
            "Epoch: 262 Loss: 0.054 and Accuracy: 1.0\n",
            "Epoch: 263 Loss: 0.0536 and Accuracy: 1.0\n",
            "Epoch: 264 Loss: 0.0532 and Accuracy: 1.0\n",
            "Epoch: 265 Loss: 0.0528 and Accuracy: 1.0\n",
            "Epoch: 266 Loss: 0.0524 and Accuracy: 1.0\n",
            "Epoch: 267 Loss: 0.052 and Accuracy: 1.0\n",
            "Epoch: 268 Loss: 0.0517 and Accuracy: 1.0\n",
            "Epoch: 269 Loss: 0.0513 and Accuracy: 1.0\n",
            "Epoch: 270 Loss: 0.0509 and Accuracy: 1.0\n",
            "Epoch: 271 Loss: 0.0506 and Accuracy: 1.0\n",
            "Epoch: 272 Loss: 0.0502 and Accuracy: 1.0\n",
            "Epoch: 273 Loss: 0.0498 and Accuracy: 1.0\n",
            "Epoch: 274 Loss: 0.0495 and Accuracy: 1.0\n",
            "Epoch: 275 Loss: 0.0491 and Accuracy: 1.0\n",
            "Epoch: 276 Loss: 0.0488 and Accuracy: 1.0\n",
            "Epoch: 277 Loss: 0.0485 and Accuracy: 1.0\n",
            "Epoch: 278 Loss: 0.0481 and Accuracy: 1.0\n",
            "Epoch: 279 Loss: 0.0478 and Accuracy: 1.0\n",
            "Epoch: 280 Loss: 0.0475 and Accuracy: 1.0\n",
            "Epoch: 281 Loss: 0.0471 and Accuracy: 1.0\n",
            "Epoch: 282 Loss: 0.0468 and Accuracy: 1.0\n",
            "Epoch: 283 Loss: 0.0465 and Accuracy: 1.0\n",
            "Epoch: 284 Loss: 0.0462 and Accuracy: 1.0\n",
            "Epoch: 285 Loss: 0.0459 and Accuracy: 1.0\n",
            "Epoch: 286 Loss: 0.0456 and Accuracy: 1.0\n",
            "Epoch: 287 Loss: 0.0452 and Accuracy: 1.0\n",
            "Epoch: 288 Loss: 0.0449 and Accuracy: 1.0\n",
            "Epoch: 289 Loss: 0.0447 and Accuracy: 1.0\n",
            "Epoch: 290 Loss: 0.0444 and Accuracy: 1.0\n",
            "Epoch: 291 Loss: 0.0441 and Accuracy: 1.0\n",
            "Epoch: 292 Loss: 0.0438 and Accuracy: 1.0\n",
            "Epoch: 293 Loss: 0.0435 and Accuracy: 1.0\n",
            "Epoch: 294 Loss: 0.0432 and Accuracy: 1.0\n",
            "Epoch: 295 Loss: 0.0429 and Accuracy: 1.0\n",
            "Epoch: 296 Loss: 0.0426 and Accuracy: 1.0\n",
            "Epoch: 297 Loss: 0.0424 and Accuracy: 1.0\n",
            "Epoch: 298 Loss: 0.0421 and Accuracy: 1.0\n",
            "Epoch: 299 Loss: 0.0418 and Accuracy: 1.0\n",
            "Epoch: 300 Loss: 0.0416 and Accuracy: 1.0\n",
            "Epoch: 301 Loss: 0.0413 and Accuracy: 1.0\n",
            "Epoch: 302 Loss: 0.041 and Accuracy: 1.0\n",
            "Epoch: 303 Loss: 0.0408 and Accuracy: 1.0\n",
            "Epoch: 304 Loss: 0.0405 and Accuracy: 1.0\n",
            "Epoch: 305 Loss: 0.0403 and Accuracy: 1.0\n",
            "Epoch: 306 Loss: 0.04 and Accuracy: 1.0\n",
            "Epoch: 307 Loss: 0.0398 and Accuracy: 1.0\n",
            "Epoch: 308 Loss: 0.0395 and Accuracy: 1.0\n",
            "Epoch: 309 Loss: 0.0393 and Accuracy: 1.0\n",
            "Epoch: 310 Loss: 0.0391 and Accuracy: 1.0\n",
            "Epoch: 311 Loss: 0.0388 and Accuracy: 1.0\n",
            "Epoch: 312 Loss: 0.0386 and Accuracy: 1.0\n",
            "Epoch: 313 Loss: 0.0384 and Accuracy: 1.0\n",
            "Epoch: 314 Loss: 0.0381 and Accuracy: 1.0\n",
            "Epoch: 315 Loss: 0.0379 and Accuracy: 1.0\n",
            "Epoch: 316 Loss: 0.0377 and Accuracy: 1.0\n",
            "Epoch: 317 Loss: 0.0375 and Accuracy: 1.0\n",
            "Epoch: 318 Loss: 0.0372 and Accuracy: 1.0\n",
            "Epoch: 319 Loss: 0.037 and Accuracy: 1.0\n",
            "Epoch: 320 Loss: 0.0368 and Accuracy: 1.0\n",
            "Epoch: 321 Loss: 0.0366 and Accuracy: 1.0\n",
            "Epoch: 322 Loss: 0.0364 and Accuracy: 1.0\n",
            "Epoch: 323 Loss: 0.0362 and Accuracy: 1.0\n",
            "Epoch: 324 Loss: 0.0359 and Accuracy: 1.0\n",
            "Epoch: 325 Loss: 0.0357 and Accuracy: 1.0\n",
            "Epoch: 326 Loss: 0.0355 and Accuracy: 1.0\n",
            "Epoch: 327 Loss: 0.0353 and Accuracy: 1.0\n",
            "Epoch: 328 Loss: 0.0351 and Accuracy: 1.0\n",
            "Epoch: 329 Loss: 0.0349 and Accuracy: 1.0\n",
            "Epoch: 330 Loss: 0.0347 and Accuracy: 1.0\n",
            "Epoch: 331 Loss: 0.0345 and Accuracy: 1.0\n",
            "Epoch: 332 Loss: 0.0343 and Accuracy: 1.0\n",
            "Epoch: 333 Loss: 0.0342 and Accuracy: 1.0\n",
            "Epoch: 334 Loss: 0.034 and Accuracy: 1.0\n",
            "Epoch: 335 Loss: 0.0338 and Accuracy: 1.0\n",
            "Epoch: 336 Loss: 0.0336 and Accuracy: 1.0\n",
            "Epoch: 337 Loss: 0.0334 and Accuracy: 1.0\n",
            "Epoch: 338 Loss: 0.0332 and Accuracy: 1.0\n",
            "Epoch: 339 Loss: 0.033 and Accuracy: 1.0\n",
            "Epoch: 340 Loss: 0.0329 and Accuracy: 1.0\n",
            "Epoch: 341 Loss: 0.0327 and Accuracy: 1.0\n",
            "Epoch: 342 Loss: 0.0325 and Accuracy: 1.0\n",
            "Epoch: 343 Loss: 0.0323 and Accuracy: 1.0\n",
            "Epoch: 344 Loss: 0.0322 and Accuracy: 1.0\n",
            "Epoch: 345 Loss: 0.032 and Accuracy: 1.0\n",
            "Epoch: 346 Loss: 0.0318 and Accuracy: 1.0\n",
            "Epoch: 347 Loss: 0.0317 and Accuracy: 1.0\n",
            "Epoch: 348 Loss: 0.0315 and Accuracy: 1.0\n",
            "Epoch: 349 Loss: 0.0313 and Accuracy: 1.0\n",
            "Epoch: 350 Loss: 0.0312 and Accuracy: 1.0\n",
            "Epoch: 351 Loss: 0.031 and Accuracy: 1.0\n",
            "Epoch: 352 Loss: 0.0308 and Accuracy: 1.0\n",
            "Epoch: 353 Loss: 0.0307 and Accuracy: 1.0\n",
            "Epoch: 354 Loss: 0.0305 and Accuracy: 1.0\n",
            "Epoch: 355 Loss: 0.0304 and Accuracy: 1.0\n",
            "Epoch: 356 Loss: 0.0302 and Accuracy: 1.0\n",
            "Epoch: 357 Loss: 0.03 and Accuracy: 1.0\n",
            "Epoch: 358 Loss: 0.0299 and Accuracy: 1.0\n",
            "Epoch: 359 Loss: 0.0297 and Accuracy: 1.0\n",
            "Epoch: 360 Loss: 0.0296 and Accuracy: 1.0\n",
            "Epoch: 361 Loss: 0.0294 and Accuracy: 1.0\n",
            "Epoch: 362 Loss: 0.0293 and Accuracy: 1.0\n",
            "Epoch: 363 Loss: 0.0291 and Accuracy: 1.0\n",
            "Epoch: 364 Loss: 0.029 and Accuracy: 1.0\n",
            "Epoch: 365 Loss: 0.0289 and Accuracy: 1.0\n",
            "Epoch: 366 Loss: 0.0287 and Accuracy: 1.0\n",
            "Epoch: 367 Loss: 0.0286 and Accuracy: 1.0\n",
            "Epoch: 368 Loss: 0.0284 and Accuracy: 1.0\n",
            "Epoch: 369 Loss: 0.0283 and Accuracy: 1.0\n",
            "Epoch: 370 Loss: 0.0282 and Accuracy: 1.0\n",
            "Epoch: 371 Loss: 0.028 and Accuracy: 1.0\n",
            "Epoch: 372 Loss: 0.0279 and Accuracy: 1.0\n",
            "Epoch: 373 Loss: 0.0277 and Accuracy: 1.0\n",
            "Epoch: 374 Loss: 0.0276 and Accuracy: 1.0\n",
            "Epoch: 375 Loss: 0.0275 and Accuracy: 1.0\n",
            "Epoch: 376 Loss: 0.0273 and Accuracy: 1.0\n",
            "Epoch: 377 Loss: 0.0272 and Accuracy: 1.0\n",
            "Epoch: 378 Loss: 0.0271 and Accuracy: 1.0\n",
            "Epoch: 379 Loss: 0.027 and Accuracy: 1.0\n",
            "Epoch: 380 Loss: 0.0268 and Accuracy: 1.0\n",
            "Epoch: 381 Loss: 0.0267 and Accuracy: 1.0\n",
            "Epoch: 382 Loss: 0.0266 and Accuracy: 1.0\n",
            "Epoch: 383 Loss: 0.0265 and Accuracy: 1.0\n",
            "Epoch: 384 Loss: 0.0263 and Accuracy: 1.0\n",
            "Epoch: 385 Loss: 0.0262 and Accuracy: 1.0\n",
            "Epoch: 386 Loss: 0.0261 and Accuracy: 1.0\n",
            "Epoch: 387 Loss: 0.026 and Accuracy: 1.0\n",
            "Epoch: 388 Loss: 0.0258 and Accuracy: 1.0\n",
            "Epoch: 389 Loss: 0.0257 and Accuracy: 1.0\n",
            "Epoch: 390 Loss: 0.0256 and Accuracy: 1.0\n",
            "Epoch: 391 Loss: 0.0255 and Accuracy: 1.0\n",
            "Epoch: 392 Loss: 0.0254 and Accuracy: 1.0\n",
            "Epoch: 393 Loss: 0.0253 and Accuracy: 1.0\n",
            "Epoch: 394 Loss: 0.0251 and Accuracy: 1.0\n",
            "Epoch: 395 Loss: 0.025 and Accuracy: 1.0\n",
            "Epoch: 396 Loss: 0.0249 and Accuracy: 1.0\n",
            "Epoch: 397 Loss: 0.0248 and Accuracy: 1.0\n",
            "Epoch: 398 Loss: 0.0247 and Accuracy: 1.0\n",
            "Epoch: 399 Loss: 0.0246 and Accuracy: 1.0\n",
            "Epoch: 400 Loss: 0.0245 and Accuracy: 1.0\n",
            "Epoch: 401 Loss: 0.0244 and Accuracy: 1.0\n",
            "Epoch: 402 Loss: 0.0243 and Accuracy: 1.0\n",
            "Epoch: 403 Loss: 0.0242 and Accuracy: 1.0\n",
            "Epoch: 404 Loss: 0.0241 and Accuracy: 1.0\n",
            "Epoch: 405 Loss: 0.024 and Accuracy: 1.0\n",
            "Epoch: 406 Loss: 0.0238 and Accuracy: 1.0\n",
            "Epoch: 407 Loss: 0.0237 and Accuracy: 1.0\n",
            "Epoch: 408 Loss: 0.0236 and Accuracy: 1.0\n",
            "Epoch: 409 Loss: 0.0235 and Accuracy: 1.0\n",
            "Epoch: 410 Loss: 0.0234 and Accuracy: 1.0\n",
            "Epoch: 411 Loss: 0.0233 and Accuracy: 1.0\n",
            "Epoch: 412 Loss: 0.0232 and Accuracy: 1.0\n",
            "Epoch: 413 Loss: 0.0231 and Accuracy: 1.0\n",
            "Epoch: 414 Loss: 0.023 and Accuracy: 1.0\n",
            "Epoch: 415 Loss: 0.0229 and Accuracy: 1.0\n",
            "Epoch: 416 Loss: 0.0228 and Accuracy: 1.0\n",
            "Epoch: 417 Loss: 0.0227 and Accuracy: 1.0\n",
            "Epoch: 418 Loss: 0.0227 and Accuracy: 1.0\n",
            "Epoch: 419 Loss: 0.0226 and Accuracy: 1.0\n",
            "Epoch: 420 Loss: 0.0225 and Accuracy: 1.0\n",
            "Epoch: 421 Loss: 0.0224 and Accuracy: 1.0\n",
            "Epoch: 422 Loss: 0.0223 and Accuracy: 1.0\n",
            "Epoch: 423 Loss: 0.0222 and Accuracy: 1.0\n",
            "Epoch: 424 Loss: 0.0221 and Accuracy: 1.0\n",
            "Epoch: 425 Loss: 0.022 and Accuracy: 1.0\n",
            "Epoch: 426 Loss: 0.0219 and Accuracy: 1.0\n",
            "Epoch: 427 Loss: 0.0218 and Accuracy: 1.0\n",
            "Epoch: 428 Loss: 0.0217 and Accuracy: 1.0\n",
            "Epoch: 429 Loss: 0.0216 and Accuracy: 1.0\n",
            "Epoch: 430 Loss: 0.0216 and Accuracy: 1.0\n",
            "Epoch: 431 Loss: 0.0215 and Accuracy: 1.0\n",
            "Epoch: 432 Loss: 0.0214 and Accuracy: 1.0\n",
            "Epoch: 433 Loss: 0.0213 and Accuracy: 1.0\n",
            "Epoch: 434 Loss: 0.0212 and Accuracy: 1.0\n",
            "Epoch: 435 Loss: 0.0211 and Accuracy: 1.0\n",
            "Epoch: 436 Loss: 0.021 and Accuracy: 1.0\n",
            "Epoch: 437 Loss: 0.021 and Accuracy: 1.0\n",
            "Epoch: 438 Loss: 0.0209 and Accuracy: 1.0\n",
            "Epoch: 439 Loss: 0.0208 and Accuracy: 1.0\n",
            "Epoch: 440 Loss: 0.0207 and Accuracy: 1.0\n",
            "Epoch: 441 Loss: 0.0206 and Accuracy: 1.0\n",
            "Epoch: 442 Loss: 0.0206 and Accuracy: 1.0\n",
            "Epoch: 443 Loss: 0.0205 and Accuracy: 1.0\n",
            "Epoch: 444 Loss: 0.0204 and Accuracy: 1.0\n",
            "Epoch: 445 Loss: 0.0203 and Accuracy: 1.0\n",
            "Epoch: 446 Loss: 0.0202 and Accuracy: 1.0\n",
            "Epoch: 447 Loss: 0.0202 and Accuracy: 1.0\n",
            "Epoch: 448 Loss: 0.0201 and Accuracy: 1.0\n",
            "Epoch: 449 Loss: 0.02 and Accuracy: 1.0\n",
            "Epoch: 450 Loss: 0.0199 and Accuracy: 1.0\n",
            "Epoch: 451 Loss: 0.0199 and Accuracy: 1.0\n",
            "Epoch: 452 Loss: 0.0198 and Accuracy: 1.0\n",
            "Epoch: 453 Loss: 0.0197 and Accuracy: 1.0\n",
            "Epoch: 454 Loss: 0.0196 and Accuracy: 1.0\n",
            "Epoch: 455 Loss: 0.0196 and Accuracy: 1.0\n",
            "Epoch: 456 Loss: 0.0195 and Accuracy: 1.0\n",
            "Epoch: 457 Loss: 0.0194 and Accuracy: 1.0\n",
            "Epoch: 458 Loss: 0.0193 and Accuracy: 1.0\n",
            "Epoch: 459 Loss: 0.0193 and Accuracy: 1.0\n",
            "Epoch: 460 Loss: 0.0192 and Accuracy: 1.0\n",
            "Epoch: 461 Loss: 0.0191 and Accuracy: 1.0\n",
            "Epoch: 462 Loss: 0.0191 and Accuracy: 1.0\n",
            "Epoch: 463 Loss: 0.019 and Accuracy: 1.0\n",
            "Epoch: 464 Loss: 0.0189 and Accuracy: 1.0\n",
            "Epoch: 465 Loss: 0.0188 and Accuracy: 1.0\n",
            "Epoch: 466 Loss: 0.0188 and Accuracy: 1.0\n",
            "Epoch: 467 Loss: 0.0187 and Accuracy: 1.0\n",
            "Epoch: 468 Loss: 0.0186 and Accuracy: 1.0\n",
            "Epoch: 469 Loss: 0.0186 and Accuracy: 1.0\n",
            "Epoch: 470 Loss: 0.0185 and Accuracy: 1.0\n",
            "Epoch: 471 Loss: 0.0184 and Accuracy: 1.0\n",
            "Epoch: 472 Loss: 0.0184 and Accuracy: 1.0\n",
            "Epoch: 473 Loss: 0.0183 and Accuracy: 1.0\n",
            "Epoch: 474 Loss: 0.0182 and Accuracy: 1.0\n",
            "Epoch: 475 Loss: 0.0182 and Accuracy: 1.0\n",
            "Epoch: 476 Loss: 0.0181 and Accuracy: 1.0\n",
            "Epoch: 477 Loss: 0.018 and Accuracy: 1.0\n",
            "Epoch: 478 Loss: 0.018 and Accuracy: 1.0\n",
            "Epoch: 479 Loss: 0.0179 and Accuracy: 1.0\n",
            "Epoch: 480 Loss: 0.0179 and Accuracy: 1.0\n",
            "Epoch: 481 Loss: 0.0178 and Accuracy: 1.0\n",
            "Epoch: 482 Loss: 0.0177 and Accuracy: 1.0\n",
            "Epoch: 483 Loss: 0.0177 and Accuracy: 1.0\n",
            "Epoch: 484 Loss: 0.0176 and Accuracy: 1.0\n",
            "Epoch: 485 Loss: 0.0175 and Accuracy: 1.0\n",
            "Epoch: 486 Loss: 0.0175 and Accuracy: 1.0\n",
            "Epoch: 487 Loss: 0.0174 and Accuracy: 1.0\n",
            "Epoch: 488 Loss: 0.0174 and Accuracy: 1.0\n",
            "Epoch: 489 Loss: 0.0173 and Accuracy: 1.0\n",
            "Epoch: 490 Loss: 0.0172 and Accuracy: 1.0\n",
            "Epoch: 491 Loss: 0.0172 and Accuracy: 1.0\n",
            "Epoch: 492 Loss: 0.0171 and Accuracy: 1.0\n",
            "Epoch: 493 Loss: 0.0171 and Accuracy: 1.0\n",
            "Epoch: 494 Loss: 0.017 and Accuracy: 1.0\n",
            "Epoch: 495 Loss: 0.0169 and Accuracy: 1.0\n",
            "Epoch: 496 Loss: 0.0169 and Accuracy: 1.0\n",
            "Epoch: 497 Loss: 0.0168 and Accuracy: 1.0\n",
            "Epoch: 498 Loss: 0.0168 and Accuracy: 1.0\n",
            "Epoch: 499 Loss: 0.0167 and Accuracy: 1.0\n"
          ]
        },
        {
          "output_type": "execute_result",
          "data": {
            "text/plain": [
              "Embedding(34, 16)"
            ]
          },
          "metadata": {},
          "execution_count": 476
        }
      ]
    },
    {
      "cell_type": "markdown",
      "metadata": {
        "id": "WX2PSXnTDiNi"
      },
      "source": [
        "## Visualize the final node embeddings\n",
        "Visualize your final embedding here!\n",
        "You can visually compare the figure with the previous embedding figure.\n",
        "After training, you should oberserve that the two classes are more evidently separated.\n",
        "This is a great sanitity check for your implementation as well."
      ]
    },
    {
      "cell_type": "code",
      "metadata": {
        "id": "MtNgl4VhYKow",
        "colab": {
          "base_uri": "https://localhost:8080/",
          "height": 522
        },
        "outputId": "8d987124-eea5-48e7-cc87-1604b6401afb"
      },
      "source": [
        "# Visualize the final learned embedding\n",
        "visualize_emb(emb)"
      ],
      "execution_count": null,
      "outputs": [
        {
          "output_type": "display_data",
          "data": {
            "text/plain": [
              "<Figure size 600x600 with 1 Axes>"
            ],
            "image/png": "[encoded data removed]"
          },
          "metadata": {}
        }
      ]
    },
    {
      "cell_type": "markdown",
      "metadata": {
        "id": "FTNyrAoSVeq9"
      },
      "source": [
        "# Submission"
      ]
    },
    {
      "cell_type": "markdown",
      "metadata": {
        "id": "E_E7J_GkVhY_"
      },
      "source": [
        "When you submit your assignment, you will have to download this file as an `.ipynb` file. Please name this file `CS224W_Colab_1.ipynb`. Make sure that the files are name correctly, otherwise the autograder will not be able to find your submission files."
      ]
    },
    {
      "cell_type": "code",
      "source": [],
      "metadata": {
        "id": "0W-nxh-wgZ-V"
      },
      "execution_count": null,
      "outputs": []
    }
  ]
}